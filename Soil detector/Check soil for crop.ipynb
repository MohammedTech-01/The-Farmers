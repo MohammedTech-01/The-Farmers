{
  "nbformat": 4,
  "nbformat_minor": 0,
  "metadata": {
    "colab": {
      "provenance": []
    },
    "kernelspec": {
      "name": "python3",
      "display_name": "Python 3"
    },
    "language_info": {
      "name": "python"
    }
  },
  "cells": [
    {
      "cell_type": "code",
      "execution_count": 5,
      "metadata": {
        "colab": {
          "base_uri": "https://localhost:8080/"
        },
        "id": "n52jCPCu1aQH",
        "outputId": "c8c566d9-2880-46d5-8c18-f3ec23c74508"
      },
      "outputs": [
        {
          "output_type": "stream",
          "name": "stdout",
          "text": [
            "        N   P   K  temperature   humidity        ph    rainfall   label\n",
            "0      90  42  43    20.879744  82.002744  6.502985  202.935536    rice\n",
            "1      85  58  41    21.770462  80.319644  7.038096  226.655537    rice\n",
            "2      60  55  44    23.004459  82.320763  7.840207  263.964248    rice\n",
            "3      74  35  40    26.491096  80.158363  6.980401  242.864034    rice\n",
            "4      78  42  42    20.130175  81.604873  7.628473  262.717340    rice\n",
            "...   ...  ..  ..          ...        ...       ...         ...     ...\n",
            "1692  117  86  48    28.695620  82.541958  6.225225  116.161684  banana\n",
            "1693  114  94  53    26.335449  76.853201  6.190757  118.685826  banana\n",
            "1694  110  78  50    25.937302  78.898644  5.915569   98.217475  banana\n",
            "1695   94  70  48    25.136865  84.883944  6.195152   91.464425  banana\n",
            "1696   80  71  47    27.505277  80.797840  6.156373  105.077699  banana\n",
            "\n",
            "[1697 rows x 8 columns]\n"
          ]
        }
      ],
      "source": [
        "#read the csv file\n",
        "\n",
        "import pandas as pd\n",
        "\n",
        "# Assuming the CSV file is named 'data.csv'\n",
        "df = pd.read_csv('/content/Crop recommendation.csv')\n",
        "print(df)\n"
      ]
    },
    {
      "cell_type": "code",
      "source": [
        "df.drop(['temperature','humidity','rainfall'],axis=1,inplace=True)"
      ],
      "metadata": {
        "id": "GQUfhzEhitv5"
      },
      "execution_count": 6,
      "outputs": []
    },
    {
      "cell_type": "code",
      "source": [
        "df.head()"
      ],
      "metadata": {
        "colab": {
          "base_uri": "https://localhost:8080/",
          "height": 206
        },
        "id": "IfFHWB1x1nd3",
        "outputId": "401c445f-1f93-43d5-d45b-54ec9617b6e2"
      },
      "execution_count": 7,
      "outputs": [
        {
          "output_type": "execute_result",
          "data": {
            "text/plain": [
              "    N   P   K        ph label\n",
              "0  90  42  43  6.502985  rice\n",
              "1  85  58  41  7.038096  rice\n",
              "2  60  55  44  7.840207  rice\n",
              "3  74  35  40  6.980401  rice\n",
              "4  78  42  42  7.628473  rice"
            ],
            "text/html": [
              "\n",
              "  <div id=\"df-c4df3d74-2922-4a7c-861e-7c5696336a21\" class=\"colab-df-container\">\n",
              "    <div>\n",
              "<style scoped>\n",
              "    .dataframe tbody tr th:only-of-type {\n",
              "        vertical-align: middle;\n",
              "    }\n",
              "\n",
              "    .dataframe tbody tr th {\n",
              "        vertical-align: top;\n",
              "    }\n",
              "\n",
              "    .dataframe thead th {\n",
              "        text-align: right;\n",
              "    }\n",
              "</style>\n",
              "<table border=\"1\" class=\"dataframe\">\n",
              "  <thead>\n",
              "    <tr style=\"text-align: right;\">\n",
              "      <th></th>\n",
              "      <th>N</th>\n",
              "      <th>P</th>\n",
              "      <th>K</th>\n",
              "      <th>ph</th>\n",
              "      <th>label</th>\n",
              "    </tr>\n",
              "  </thead>\n",
              "  <tbody>\n",
              "    <tr>\n",
              "      <th>0</th>\n",
              "      <td>90</td>\n",
              "      <td>42</td>\n",
              "      <td>43</td>\n",
              "      <td>6.502985</td>\n",
              "      <td>rice</td>\n",
              "    </tr>\n",
              "    <tr>\n",
              "      <th>1</th>\n",
              "      <td>85</td>\n",
              "      <td>58</td>\n",
              "      <td>41</td>\n",
              "      <td>7.038096</td>\n",
              "      <td>rice</td>\n",
              "    </tr>\n",
              "    <tr>\n",
              "      <th>2</th>\n",
              "      <td>60</td>\n",
              "      <td>55</td>\n",
              "      <td>44</td>\n",
              "      <td>7.840207</td>\n",
              "      <td>rice</td>\n",
              "    </tr>\n",
              "    <tr>\n",
              "      <th>3</th>\n",
              "      <td>74</td>\n",
              "      <td>35</td>\n",
              "      <td>40</td>\n",
              "      <td>6.980401</td>\n",
              "      <td>rice</td>\n",
              "    </tr>\n",
              "    <tr>\n",
              "      <th>4</th>\n",
              "      <td>78</td>\n",
              "      <td>42</td>\n",
              "      <td>42</td>\n",
              "      <td>7.628473</td>\n",
              "      <td>rice</td>\n",
              "    </tr>\n",
              "  </tbody>\n",
              "</table>\n",
              "</div>\n",
              "    <div class=\"colab-df-buttons\">\n",
              "\n",
              "  <div class=\"colab-df-container\">\n",
              "    <button class=\"colab-df-convert\" onclick=\"convertToInteractive('df-c4df3d74-2922-4a7c-861e-7c5696336a21')\"\n",
              "            title=\"Convert this dataframe to an interactive table.\"\n",
              "            style=\"display:none;\">\n",
              "\n",
              "  <svg xmlns=\"http://www.w3.org/2000/svg\" height=\"24px\" viewBox=\"0 -960 960 960\">\n",
              "    <path d=\"M120-120v-720h720v720H120Zm60-500h600v-160H180v160Zm220 220h160v-160H400v160Zm0 220h160v-160H400v160ZM180-400h160v-160H180v160Zm440 0h160v-160H620v160ZM180-180h160v-160H180v160Zm440 0h160v-160H620v160Z\"/>\n",
              "  </svg>\n",
              "    </button>\n",
              "\n",
              "  <style>\n",
              "    .colab-df-container {\n",
              "      display:flex;\n",
              "      gap: 12px;\n",
              "    }\n",
              "\n",
              "    .colab-df-convert {\n",
              "      background-color: #E8F0FE;\n",
              "      border: none;\n",
              "      border-radius: 50%;\n",
              "      cursor: pointer;\n",
              "      display: none;\n",
              "      fill: #1967D2;\n",
              "      height: 32px;\n",
              "      padding: 0 0 0 0;\n",
              "      width: 32px;\n",
              "    }\n",
              "\n",
              "    .colab-df-convert:hover {\n",
              "      background-color: #E2EBFA;\n",
              "      box-shadow: 0px 1px 2px rgba(60, 64, 67, 0.3), 0px 1px 3px 1px rgba(60, 64, 67, 0.15);\n",
              "      fill: #174EA6;\n",
              "    }\n",
              "\n",
              "    .colab-df-buttons div {\n",
              "      margin-bottom: 4px;\n",
              "    }\n",
              "\n",
              "    [theme=dark] .colab-df-convert {\n",
              "      background-color: #3B4455;\n",
              "      fill: #D2E3FC;\n",
              "    }\n",
              "\n",
              "    [theme=dark] .colab-df-convert:hover {\n",
              "      background-color: #434B5C;\n",
              "      box-shadow: 0px 1px 3px 1px rgba(0, 0, 0, 0.15);\n",
              "      filter: drop-shadow(0px 1px 2px rgba(0, 0, 0, 0.3));\n",
              "      fill: #FFFFFF;\n",
              "    }\n",
              "  </style>\n",
              "\n",
              "    <script>\n",
              "      const buttonEl =\n",
              "        document.querySelector('#df-c4df3d74-2922-4a7c-861e-7c5696336a21 button.colab-df-convert');\n",
              "      buttonEl.style.display =\n",
              "        google.colab.kernel.accessAllowed ? 'block' : 'none';\n",
              "\n",
              "      async function convertToInteractive(key) {\n",
              "        const element = document.querySelector('#df-c4df3d74-2922-4a7c-861e-7c5696336a21');\n",
              "        const dataTable =\n",
              "          await google.colab.kernel.invokeFunction('convertToInteractive',\n",
              "                                                    [key], {});\n",
              "        if (!dataTable) return;\n",
              "\n",
              "        const docLinkHtml = 'Like what you see? Visit the ' +\n",
              "          '<a target=\"_blank\" href=https://colab.research.google.com/notebooks/data_table.ipynb>data table notebook</a>'\n",
              "          + ' to learn more about interactive tables.';\n",
              "        element.innerHTML = '';\n",
              "        dataTable['output_type'] = 'display_data';\n",
              "        await google.colab.output.renderOutput(dataTable, element);\n",
              "        const docLink = document.createElement('div');\n",
              "        docLink.innerHTML = docLinkHtml;\n",
              "        element.appendChild(docLink);\n",
              "      }\n",
              "    </script>\n",
              "  </div>\n",
              "\n",
              "\n",
              "<div id=\"df-5ce6c3e7-4090-4b7f-bd1a-c9dde43989ef\">\n",
              "  <button class=\"colab-df-quickchart\" onclick=\"quickchart('df-5ce6c3e7-4090-4b7f-bd1a-c9dde43989ef')\"\n",
              "            title=\"Suggest charts\"\n",
              "            style=\"display:none;\">\n",
              "\n",
              "<svg xmlns=\"http://www.w3.org/2000/svg\" height=\"24px\"viewBox=\"0 0 24 24\"\n",
              "     width=\"24px\">\n",
              "    <g>\n",
              "        <path d=\"M19 3H5c-1.1 0-2 .9-2 2v14c0 1.1.9 2 2 2h14c1.1 0 2-.9 2-2V5c0-1.1-.9-2-2-2zM9 17H7v-7h2v7zm4 0h-2V7h2v10zm4 0h-2v-4h2v4z\"/>\n",
              "    </g>\n",
              "</svg>\n",
              "  </button>\n",
              "\n",
              "<style>\n",
              "  .colab-df-quickchart {\n",
              "      --bg-color: #E8F0FE;\n",
              "      --fill-color: #1967D2;\n",
              "      --hover-bg-color: #E2EBFA;\n",
              "      --hover-fill-color: #174EA6;\n",
              "      --disabled-fill-color: #AAA;\n",
              "      --disabled-bg-color: #DDD;\n",
              "  }\n",
              "\n",
              "  [theme=dark] .colab-df-quickchart {\n",
              "      --bg-color: #3B4455;\n",
              "      --fill-color: #D2E3FC;\n",
              "      --hover-bg-color: #434B5C;\n",
              "      --hover-fill-color: #FFFFFF;\n",
              "      --disabled-bg-color: #3B4455;\n",
              "      --disabled-fill-color: #666;\n",
              "  }\n",
              "\n",
              "  .colab-df-quickchart {\n",
              "    background-color: var(--bg-color);\n",
              "    border: none;\n",
              "    border-radius: 50%;\n",
              "    cursor: pointer;\n",
              "    display: none;\n",
              "    fill: var(--fill-color);\n",
              "    height: 32px;\n",
              "    padding: 0;\n",
              "    width: 32px;\n",
              "  }\n",
              "\n",
              "  .colab-df-quickchart:hover {\n",
              "    background-color: var(--hover-bg-color);\n",
              "    box-shadow: 0 1px 2px rgba(60, 64, 67, 0.3), 0 1px 3px 1px rgba(60, 64, 67, 0.15);\n",
              "    fill: var(--button-hover-fill-color);\n",
              "  }\n",
              "\n",
              "  .colab-df-quickchart-complete:disabled,\n",
              "  .colab-df-quickchart-complete:disabled:hover {\n",
              "    background-color: var(--disabled-bg-color);\n",
              "    fill: var(--disabled-fill-color);\n",
              "    box-shadow: none;\n",
              "  }\n",
              "\n",
              "  .colab-df-spinner {\n",
              "    border: 2px solid var(--fill-color);\n",
              "    border-color: transparent;\n",
              "    border-bottom-color: var(--fill-color);\n",
              "    animation:\n",
              "      spin 1s steps(1) infinite;\n",
              "  }\n",
              "\n",
              "  @keyframes spin {\n",
              "    0% {\n",
              "      border-color: transparent;\n",
              "      border-bottom-color: var(--fill-color);\n",
              "      border-left-color: var(--fill-color);\n",
              "    }\n",
              "    20% {\n",
              "      border-color: transparent;\n",
              "      border-left-color: var(--fill-color);\n",
              "      border-top-color: var(--fill-color);\n",
              "    }\n",
              "    30% {\n",
              "      border-color: transparent;\n",
              "      border-left-color: var(--fill-color);\n",
              "      border-top-color: var(--fill-color);\n",
              "      border-right-color: var(--fill-color);\n",
              "    }\n",
              "    40% {\n",
              "      border-color: transparent;\n",
              "      border-right-color: var(--fill-color);\n",
              "      border-top-color: var(--fill-color);\n",
              "    }\n",
              "    60% {\n",
              "      border-color: transparent;\n",
              "      border-right-color: var(--fill-color);\n",
              "    }\n",
              "    80% {\n",
              "      border-color: transparent;\n",
              "      border-right-color: var(--fill-color);\n",
              "      border-bottom-color: var(--fill-color);\n",
              "    }\n",
              "    90% {\n",
              "      border-color: transparent;\n",
              "      border-bottom-color: var(--fill-color);\n",
              "    }\n",
              "  }\n",
              "</style>\n",
              "\n",
              "  <script>\n",
              "    async function quickchart(key) {\n",
              "      const quickchartButtonEl =\n",
              "        document.querySelector('#' + key + ' button');\n",
              "      quickchartButtonEl.disabled = true;  // To prevent multiple clicks.\n",
              "      quickchartButtonEl.classList.add('colab-df-spinner');\n",
              "      try {\n",
              "        const charts = await google.colab.kernel.invokeFunction(\n",
              "            'suggestCharts', [key], {});\n",
              "      } catch (error) {\n",
              "        console.error('Error during call to suggestCharts:', error);\n",
              "      }\n",
              "      quickchartButtonEl.classList.remove('colab-df-spinner');\n",
              "      quickchartButtonEl.classList.add('colab-df-quickchart-complete');\n",
              "    }\n",
              "    (() => {\n",
              "      let quickchartButtonEl =\n",
              "        document.querySelector('#df-5ce6c3e7-4090-4b7f-bd1a-c9dde43989ef button');\n",
              "      quickchartButtonEl.style.display =\n",
              "        google.colab.kernel.accessAllowed ? 'block' : 'none';\n",
              "    })();\n",
              "  </script>\n",
              "</div>\n",
              "\n",
              "    </div>\n",
              "  </div>\n"
            ],
            "application/vnd.google.colaboratory.intrinsic+json": {
              "type": "dataframe",
              "variable_name": "df",
              "summary": "{\n  \"name\": \"df\",\n  \"rows\": 1697,\n  \"fields\": [\n    {\n      \"column\": \"N\",\n      \"properties\": {\n        \"dtype\": \"number\",\n        \"std\": 38,\n        \"min\": 0,\n        \"max\": 140,\n        \"num_unique_values\": 136,\n        \"samples\": [\n          30,\n          36,\n          46\n        ],\n        \"semantic_type\": \"\",\n        \"description\": \"\"\n      }\n    },\n    {\n      \"column\": \"P\",\n      \"properties\": {\n        \"dtype\": \"number\",\n        \"std\": 34,\n        \"min\": 5,\n        \"max\": 145,\n        \"num_unique_values\": 117,\n        \"samples\": [\n          69,\n          37,\n          86\n        ],\n        \"semantic_type\": \"\",\n        \"description\": \"\"\n      }\n    },\n    {\n      \"column\": \"K\",\n      \"properties\": {\n        \"dtype\": \"number\",\n        \"std\": 57,\n        \"min\": 5,\n        \"max\": 205,\n        \"num_unique_values\": 73,\n        \"samples\": [\n          42,\n          12,\n          15\n        ],\n        \"semantic_type\": \"\",\n        \"description\": \"\"\n      }\n    },\n    {\n      \"column\": \"ph\",\n      \"properties\": {\n        \"dtype\": \"number\",\n        \"std\": 0.8704111541132394,\n        \"min\": 3.504752314,\n        \"max\": 9.93509073,\n        \"num_unique_values\": 1564,\n        \"samples\": [\n          5.818219385,\n          7.728998197,\n          7.235070264\n        ],\n        \"semantic_type\": \"\",\n        \"description\": \"\"\n      }\n    },\n    {\n      \"column\": \"label\",\n      \"properties\": {\n        \"dtype\": \"category\",\n        \"num_unique_values\": 15,\n        \"samples\": [\n          \"grapes\",\n          \"apple\",\n          \"rice\"\n        ],\n        \"semantic_type\": \"\",\n        \"description\": \"\"\n      }\n    }\n  ]\n}"
            }
          },
          "metadata": {},
          "execution_count": 7
        }
      ]
    },
    {
      "cell_type": "code",
      "source": [
        "df['label'].unique()"
      ],
      "metadata": {
        "colab": {
          "base_uri": "https://localhost:8080/"
        },
        "id": "IJKBQ_sC1qHB",
        "outputId": "5a122758-2661-4c65-c409-e11402d45632"
      },
      "execution_count": 8,
      "outputs": [
        {
          "output_type": "execute_result",
          "data": {
            "text/plain": [
              "array(['rice', 'maize', 'Soyabeans', 'beans', 'peas', 'groundnuts',\n",
              "       'cowpeas', 'banana', 'mango', 'grapes', 'watermelon', 'apple',\n",
              "       'orange', 'cotton', 'coffee'], dtype=object)"
            ]
          },
          "metadata": {},
          "execution_count": 8
        }
      ]
    },
    {
      "cell_type": "code",
      "source": [
        "#grop to every District with soil type and then give me the avg of it\n",
        "\n",
        "# Group by 'District' and 'Soil Type' and calculate the average\n",
        "grouped_df = df.groupby(['label']).mean()\n",
        "\n",
        "print(grouped_df)\n"
      ],
      "metadata": {
        "colab": {
          "base_uri": "https://localhost:8080/"
        },
        "id": "i9sOWrrA1-aj",
        "outputId": "f3cb8d6e-93b8-4f62-c2f7-67a49e32b51b"
      },
      "execution_count": 9,
      "outputs": [
        {
          "output_type": "stream",
          "name": "stdout",
          "text": [
            "                     N           P           K        ph\n",
            "label                                                   \n",
            "Soyabeans    39.884615   67.907692   80.100000  7.313676\n",
            "apple        20.800000  134.220000  199.890000  5.929663\n",
            "banana       99.676923   82.776923   50.200000  5.941538\n",
            "beans        20.384000   67.576000   20.112000  5.743870\n",
            "coffee      101.245455   28.854545   30.109091  6.801889\n",
            "cotton      117.770000   46.240000   19.560000  6.912675\n",
            "cowpeas      20.434426   47.172131   19.836066  6.716192\n",
            "grapes       23.180000  132.530000  200.110000  6.025937\n",
            "groundnuts   21.440000   48.010000   20.230000  6.831174\n",
            "maize        76.932773   48.478992   19.588235  6.557197\n",
            "mango        20.070000   27.180000   29.920000  5.766373\n",
            "orange       18.942623   16.286885    9.909836  7.027536\n",
            "peas         20.730000   67.730000   20.290000  5.794175\n",
            "rice         80.676259   47.683453   39.928058  6.510288\n",
            "watermelon   99.420000   17.000000   50.220000  6.495778\n"
          ]
        }
      ]
    },
    {
      "cell_type": "code",
      "source": [
        "#now create min max for soil type\n",
        "\n",
        "# Group by 'Soil Type' and calculate the min and max\n",
        "min_max_by_soil_type = df.groupby(['label']).agg(['min', 'max'])\n",
        "\n",
        "print(min_max_by_soil_type)\n"
      ],
      "metadata": {
        "colab": {
          "base_uri": "https://localhost:8080/"
        },
        "id": "7gSAn8te2IAU",
        "outputId": "b2243045-a127-4209-c08b-dc36fca40e2d"
      },
      "execution_count": 10,
      "outputs": [
        {
          "output_type": "stream",
          "name": "stdout",
          "text": [
            "              N         P         K             ph          \n",
            "            min  max  min  max  min  max       min       max\n",
            "label                                                       \n",
            "Soyabeans    20   60   55   80   75   85  5.988993  8.868741\n",
            "apple         0   40  120  145  195  205  5.514253  6.499227\n",
            "banana       80  120   70   95   45   55  4.519088  6.490074\n",
            "beans         0   40   55   80   15   25  5.502999  5.998125\n",
            "coffee       80  120   15   40   25   35  6.020947  7.493192\n",
            "cotton      100  140   35   60   15   25  5.801048  7.994680\n",
            "cowpeas       0   40   35   60   15   25  6.218924  7.199495\n",
            "grapes        0   40  120  145  195  205  5.510925  6.499605\n",
            "groundnuts    0   40   35   60   15   25  3.504752  9.935091\n",
            "maize        60  100   35   60   15   25  5.513698  8.967058\n",
            "mango         0   40   15   40   25   35  4.507524  6.967418\n",
            "orange        0   40    5   30    5   15  6.010392  7.995849\n",
            "peas          0   40   55   80   15   25  4.548202  7.445445\n",
            "rice         60   99   35   60   35   45  5.005307  8.140207\n",
            "watermelon   80  120    5   30   45   55  6.000976  6.956509\n"
          ]
        }
      ]
    },
    {
      "cell_type": "code",
      "source": [
        "\n",
        "# Access the min and max values for all inputs for Alkaline soil in Ajmer district\n",
        "range_alkaline_ajmer_all = min_max_by_soil_type.loc[('rice')]\n",
        "\n",
        "print(range_alkaline_ajmer_all)\n"
      ],
      "metadata": {
        "colab": {
          "base_uri": "https://localhost:8080/"
        },
        "id": "Ix-x4iAR9Izv",
        "outputId": "fface6bc-7d43-4723-862b-edf7d314f77f"
      },
      "execution_count": 12,
      "outputs": [
        {
          "output_type": "stream",
          "name": "stdout",
          "text": [
            "N   min    60.000000\n",
            "    max    99.000000\n",
            "P   min    35.000000\n",
            "    max    60.000000\n",
            "K   min    35.000000\n",
            "    max    45.000000\n",
            "ph  min     5.005307\n",
            "    max     8.140207\n",
            "Name: rice, dtype: float64\n"
          ]
        }
      ]
    },
    {
      "cell_type": "code",
      "source": [
        "#now create in example of soil type and District and write in inputs that out of the range\n",
        "\n",
        "# Example\n",
        "crop = 'rice'\n",
        "alert = False\n",
        "\n",
        "# Get the min and max values for the given soil type and district\n",
        "try:\n",
        "  min_max_values = min_max_by_soil_type.loc[(crop)]\n",
        "except KeyError:\n",
        "  print(f\"No data found for crop type '{crop}'.\")\n",
        "  min_max_values = None\n",
        "\n",
        "if min_max_values is not None:\n",
        "  # Example values to check if they are out of range\n",
        "  pH_value = 7.5  # Replace with your desired pH value\n",
        "  nitrogen_value = 30  # Replace with your desired nitrogen value\n",
        "  phosphorous_value = 25  # Replace with your desired phosphorous value\n",
        "  potassium_value = 40  # Replace with your desired potassium value\n",
        "\n",
        "  # Check if the values are out of range\n",
        "\n",
        "  if pH_value < min_max_values['ph']['min'] or pH_value > min_max_values['ph']['max']:\n",
        "    print(f\"pH value ({pH_value}) is out of range for {crop}.\")\n",
        "    alert = True\n",
        "  if nitrogen_value < min_max_values['N']['min'] or nitrogen_value > min_max_values['N']['max']:\n",
        "    print(f\"Nitrogen value ({nitrogen_value}) is out of range for {crop}.\")\n",
        "    alert = True\n",
        "  if phosphorous_value < min_max_values['P']['min'] or phosphorous_value > min_max_values['P']['max']:\n",
        "    print(f\"Phosphorous value ({phosphorous_value}) is out of range for {crop}.\")\n",
        "    alert = True\n",
        "  if potassium_value < min_max_values['K']['min'] or potassium_value > min_max_values['K']['max']:\n",
        "    print(f\"Potassium value ({potassium_value}) is out of range for {crop}.\")\n",
        "    alert = True\n",
        "\n",
        "  if not alert:\n",
        "    print(f\"All values are within the range for {crop}.\")"
      ],
      "metadata": {
        "colab": {
          "base_uri": "https://localhost:8080/"
        },
        "id": "-oThDjDw7aqr",
        "outputId": "cb291d1d-e719-476a-fe09-be2d2ce718e8"
      },
      "execution_count": 16,
      "outputs": [
        {
          "output_type": "stream",
          "name": "stdout",
          "text": [
            "Nitrogen value (30) is out of range for rice.\n",
            "Phosphorous value (25) is out of range for rice.\n"
          ]
        }
      ]
    }
  ]
}